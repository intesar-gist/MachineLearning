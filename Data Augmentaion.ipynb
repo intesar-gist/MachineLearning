{
 "cells": [
  {
   "cell_type": "code",
   "execution_count": null,
   "metadata": {},
   "outputs": [],
   "source": [
    "from keras.preprocessing.image import ImageDataGenerator, array_to_img, img_to_array, load_img\n",
    "\n",
    "import matplotlib.image as mpimg\n",
    "import matplotlib.pyplot as plt\n",
    "import cv2\n",
    "from PIL import Image\n",
    "import numpy as np\n",
    "datagen = ImageDataGenerator(rescale=1. / 255,\n",
    "                             zca_whitening=True,\n",
    "                               #rotation_range=15,\n",
    "                               #width_shift_range=0.1,\n",
    "                               #height_shift_range=0.2,\n",
    "                               #shear_range=0.01,\n",
    "                               #zoom_range=[0.9, 1.25],\n",
    "                               #horizontal_flip=True,\n",
    "                               #vertical_flip=True,\n",
    "                               #fill_mode='reflect',\n",
    "                               #data_format='channels_last',\n",
    "                               #brightness_range=[0.5, 1.5]\n",
    "                            )\n",
    "\n",
    "\n",
    "# re-sizing images\n",
    "def get_image():\n",
    "    # load an image from file\n",
    "    img = Image.open('/Users/ihaider/PycharmProjects/datasets/bmw_224/test/BMW3_Series_Sedan_2012/05430.jpg')\n",
    "    img = img.convert('RGB')\n",
    "    img = img.resize((224,224), Image.ANTIALIAS)\n",
    "    img = np.array(img)\n",
    "\n",
    "    return img\n",
    "org = get_image()\n",
    "x = np.array([org])\n",
    "datagen.fit(x)\n",
    "i = 0\n",
    "data = datagen.flow(x, batch_size=5)\n",
    "\n",
    "\n",
    "\n",
    "img_arr1 = next(data)\n",
    "img_arr2 = next(data)\n",
    "img_arr3 = next(data)\n",
    "img_arr4 = next(data)\n",
    "img_arr5 = next(data)\n",
    "\n",
    "img_arr = [org, img_arr1[0], img_arr2[0], img_arr3[0], img_arr4[0], img_arr5[0]]\n",
    "\n",
    "fig, ax = plt.subplots(1, 5, figsize=(20, 20))\n",
    "for i, axi in enumerate(ax.flat):\n",
    "    axi.imshow(img_arr[i])\n",
    "    \n",
    "    \n",
    "    if(i==0):\n",
    "        axi.set_title(\"Original\")\n",
    "    else:\n",
    "        axi.set_title(\"vertical flip: {}\".format(i))\n",
    "    \n",
    "    axi.set(xticks=[], yticks=[])"
   ]
  },
  {
   "cell_type": "code",
   "execution_count": null,
   "metadata": {},
   "outputs": [],
   "source": []
  }
 ],
 "metadata": {
  "kernelspec": {
   "display_name": "Python 3",
   "language": "python",
   "name": "python3"
  },
  "language_info": {
   "codemirror_mode": {
    "name": "ipython",
    "version": 3
   },
   "file_extension": ".py",
   "mimetype": "text/x-python",
   "name": "python",
   "nbconvert_exporter": "python",
   "pygments_lexer": "ipython3",
   "version": "3.6.5"
  }
 },
 "nbformat": 4,
 "nbformat_minor": 2
}
